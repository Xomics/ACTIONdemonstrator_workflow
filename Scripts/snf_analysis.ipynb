{
 "cells": [
  {
   "cell_type": "code",
   "execution_count": null,
   "id": "5e815f2a",
   "metadata": {},
   "outputs": [],
   "source": [
    "import sys\n",
    "import numpy as np\n",
    "import pandas as pd\n",
    "import matplotlib.pylab as plt\n",
    "from sklearn.cluster import spectral_clustering\n",
    "from sklearn.metrics import v_measure_score\n",
    "import snf\n",
    "from snf import metrics\n",
    "import seaborn as sns\n",
    "import scipy.stats as stats\n",
    "import statsmodels.api as sm\n",
    "from statsmodels.formula.api import ols"
   ]
  },
  {
   "cell_type": "markdown",
   "id": "2d89fd27",
   "metadata": {},
   "source": [
    "### Papermill parameters\n",
    "\n",
    "snf_matrix_path <br />\n",
    "phenotypes_covariates_path <br />\n",
    "metabolomics_path <br />\n",
    "mca_dims_path <br />\n",
    "output_dir_plots"
   ]
  },
  {
   "cell_type": "code",
   "execution_count": null,
   "id": "1a9956c8",
   "metadata": {},
   "outputs": [],
   "source": [
    "# Load numpy array of fused network\n",
    "fused_network = np.loadtxt(snf_matrix_path, delimiter = \",\")"
   ]
  },
  {
   "cell_type": "code",
   "execution_count": null,
   "id": "14256664",
   "metadata": {},
   "outputs": [],
   "source": [
    "# Spectral clustering\n",
    "\n",
    "# determine optimal number of clusters (estimated via an eigengap approach)\n",
    "best, second = snf.get_n_clusters(fused_network)\n",
    "\n",
    "# Perform spectral clustering on the fused network\n",
    "labels = spectral_clustering(fused_network, n_clusters=best)\n",
    "labels_second = spectral_clustering(fused_network, n_clusters=second)"
   ]
  },
  {
   "cell_type": "code",
   "execution_count": null,
   "id": "48f14407",
   "metadata": {},
   "outputs": [],
   "source": [
    "# Functions\n",
    "\n",
    "\n",
    "def sort_fused_network(fused_network, labels_array):\n",
    "    # Make Pandas Dataframes\n",
    "    df = pd.DataFrame(fused_network)\n",
    "    df_labels = pd.DataFrame(labels_array)\n",
    "    df_labels.columns = [\"Label\"]\n",
    "    # sort label df\n",
    "    df_labels = df_labels.sort_values(by=['Label'])\n",
    "    # sort fused network df with sorted labels\n",
    "    df = df.reindex(df_labels.index)\n",
    "    df = df[df_labels.index]\n",
    "    array = df.to_numpy()\n",
    "    np.fill_diagonal(array, 0)\n",
    "    return(array)\n",
    "\n",
    "def make_heatmap(array, n_clusters):\n",
    "    # Create heatmap\n",
    "    heatmap = plt.imshow(array, cmap='hot', interpolation='nearest')\n",
    "\n",
    "    # Set axis names, title etc.\n",
    "    plt.xlabel('samples')\n",
    "    plt.ylabel('samples')\n",
    "    cbar = plt.colorbar(heatmap)\n",
    "    cbar.ax.set_ylabel('sample correlations', loc=\"top\")\n",
    "    plt.suptitle('Fused network: sample correlations\\nNumber of clusters: {:.2f}'.format(round(n_clusters)))\n",
    "    plt.show()\n",
    "\n",
    "    return(plt)\n",
    "    \n",
    "# Sort Fused networks according to labels found by spectral clustering\n",
    "sorted_fused_network_best = sort_fused_network(fused_network, labels)\n",
    "sorted_fused_network_second = sort_fused_network(fused_network, labels_second)"
   ]
  },
  {
   "cell_type": "code",
   "execution_count": null,
   "id": "251d7268",
   "metadata": {
    "scrolled": true
   },
   "outputs": [],
   "source": [
    "make_heatmap(sorted_fused_network_best,  best)"
   ]
  },
  {
   "cell_type": "code",
   "execution_count": null,
   "id": "4c591062",
   "metadata": {
    "scrolled": true
   },
   "outputs": [],
   "source": [
    "make_heatmap(sorted_fused_network_second, second)"
   ]
  },
  {
   "cell_type": "code",
   "execution_count": null,
   "id": "ee3aad47",
   "metadata": {},
   "outputs": [],
   "source": [
    "# Evaluation metrics\n",
    "\n",
    "# Determine V-measure score (requiring true lables)\n",
    "#v_score_1 = v_measure_score(labels, true_labels)\n",
    "#v_score_2 = v_measure_score(labels_second, true_labels)\n",
    "\n",
    "# Silhouette score\n",
    "np.fill_diagonal(fused_network, 0)\n",
    "sil = metrics.silhouette_score(fused_network, labels)\n",
    "sil2 = metrics.silhouette_score(fused_network, labels_second)\n",
    "\n",
    "# Affinity Z-score\n",
    "zscore =  metrics.affinity_zscore(fused_network, labels)\n",
    "zscore2 = metrics.affinity_zscore(fused_network, labels_second)"
   ]
  },
  {
   "cell_type": "markdown",
   "id": "ad9c038c",
   "metadata": {},
   "source": [
    "## Compare clusters to phenotype data"
   ]
  },
  {
   "cell_type": "code",
   "execution_count": null,
   "id": "91ca1f05",
   "metadata": {},
   "outputs": [],
   "source": [
    "# Find common IDs with -omics dataframes used for SNF\n",
    "\n",
    "\n",
    "metabolomics = pd.read_csv(metabolomics_path, index_col=0) #metabolomics_values_mapped\n",
    "metabolomics = metabolomics.dropna()"
   ]
  },
  {
   "cell_type": "code",
   "execution_count": null,
   "id": "a33605f1",
   "metadata": {},
   "outputs": [],
   "source": [
    "# Phenotypes process out\n",
    "\n",
    "phenotypes_data = pd.read_csv(phenotypes_covariates_path , index_col=0) #phenotype_covariates_data.csv\n",
    "\n",
    "phenotypes_data = phenotypes_data[phenotypes_data.index.isin(metabolomics.index)]\n",
    "phenotypes_data.shape\n",
    "\n",
    "# Add cluster labels from SNF\n",
    "\n",
    "phenotypes_data[\"fused_label\"] = labels\n",
    "phenotypes_data[\"fused_label_2nd\"] = labels_second\n",
    "\n",
    "for i in phenotypes_data.index:\n",
    "    phenotypes_data.at[i, 'fused_label'] =  \"SNF_\"+ str(phenotypes_data.at[i, 'fused_label'])\n",
    "    phenotypes_data.at[i, 'fused_label_2nd'] =  \"SNF_\"+ str(phenotypes_data.at[i, 'fused_label_2nd'])"
   ]
  },
  {
   "cell_type": "code",
   "execution_count": null,
   "id": "e390abc9",
   "metadata": {},
   "outputs": [],
   "source": [
    "phenotypes_data.head()"
   ]
  },
  {
   "cell_type": "code",
   "execution_count": null,
   "id": "01460696",
   "metadata": {},
   "outputs": [],
   "source": [
    "# Function to generate the mosaic plot\n",
    "\n",
    "from statsmodels.graphics.mosaicplot import mosaic\n",
    "\n",
    "def make_mosaic(df, col1, col2, out_dir):\n",
    "    \n",
    "    #Sort df on pheno value that is plotted against the clusters\n",
    "    df = df.sort_values(by=[col1])\n",
    "    \n",
    "    \n",
    "    #Adjust plot size to value counts\n",
    "    number_of_pheno_values = len(df[col1].value_counts())\n",
    "    number_of_clusters = len(df[col2].value_counts())\n",
    "    \n",
    "    if number_of_pheno_values < 4:\n",
    "        number_of_pheno_values = 4\n",
    "    \n",
    "    fig, ax = plt.subplots(figsize=(number_of_pheno_values*2,number_of_clusters*1.5))\n",
    "    \n",
    "    # Generate plot\n",
    "    mosaic(df, [col1, col2], ax=ax, axes_label=False)\n",
    "    plt.xlabel(col1, fontsize=20)\n",
    "    plt.ylabel(col2, fontsize=20)\n",
    "    plt.savefig(out_dir)\n",
    "    plt.show()\n",
    "    plt.close()\n",
    "    return(plt)"
   ]
  },
  {
   "cell_type": "code",
   "execution_count": null,
   "id": "c4ca3f3b",
   "metadata": {
    "scrolled": true
   },
   "outputs": [],
   "source": [
    "make_mosaic(phenotypes_data, 'Vitamines', 'fused_label', str(output_dir_plots) + 'Vitamines_l1.png')"
   ]
  },
  {
   "cell_type": "code",
   "execution_count": null,
   "id": "f7027e6a",
   "metadata": {
    "scrolled": true
   },
   "outputs": [],
   "source": [
    "make_mosaic(phenotypes_data, 'Vitamines', 'fused_label_2nd', str(output_dir_plots) + 'Vitamines_l2.png')"
   ]
  },
  {
   "cell_type": "code",
   "execution_count": null,
   "id": "0f846b4a",
   "metadata": {
    "scrolled": true
   },
   "outputs": [],
   "source": [
    "make_mosaic(phenotypes_data, 'Sex', 'fused_label', str(output_dir_plots) + 'sex_l1.png') "
   ]
  },
  {
   "cell_type": "code",
   "execution_count": null,
   "id": "de1b5f9d",
   "metadata": {},
   "outputs": [],
   "source": [
    "make_mosaic(phenotypes_data, 'Sex', 'fused_label_2nd', str(output_dir_plots) + 'sex_l2.png')"
   ]
  },
  {
   "cell_type": "code",
   "execution_count": null,
   "id": "dd1a0474",
   "metadata": {
    "scrolled": true
   },
   "outputs": [],
   "source": [
    "make_mosaic(phenotypes_data, 'Sick', 'fused_label', str(output_dir_plots) + 'Sick_l1.png')"
   ]
  },
  {
   "cell_type": "code",
   "execution_count": null,
   "id": "bf55ae07",
   "metadata": {
    "scrolled": true
   },
   "outputs": [],
   "source": [
    "make_mosaic(phenotypes_data, 'Sick', 'fused_label_2nd', str(output_dir_plots) + 'Sick_l2.png')"
   ]
  },
  {
   "cell_type": "code",
   "execution_count": null,
   "id": "17a681ba",
   "metadata": {},
   "outputs": [],
   "source": [
    "make_mosaic(phenotypes_data, 'Menstruation', 'fused_label', str(output_dir_plots) + 'Menstruation_l.png')"
   ]
  },
  {
   "cell_type": "code",
   "execution_count": null,
   "id": "09b674dc",
   "metadata": {
    "scrolled": true
   },
   "outputs": [],
   "source": [
    "make_mosaic(phenotypes_data, 'Menstruation', 'fused_label_2nd', str(output_dir_plots) + 'Menstruation_l2.png')"
   ]
  },
  {
   "cell_type": "code",
   "execution_count": null,
   "id": "40bdc281",
   "metadata": {},
   "outputs": [],
   "source": [
    "make_mosaic(phenotypes_data, 'Vitamines', 'fused_label', str(output_dir_plots) + 'Vitamines_l.png')"
   ]
  },
  {
   "cell_type": "code",
   "execution_count": null,
   "id": "573bcbd8",
   "metadata": {},
   "outputs": [],
   "source": [
    "make_mosaic(phenotypes_data, 'Vitamines', 'fused_label_2nd', str(output_dir_plots) + 'Vitamines_l2.png')"
   ]
  },
  {
   "cell_type": "markdown",
   "id": "8bbdcbbd",
   "metadata": {},
   "source": [
    "## Compare clusters on MCA dimensions"
   ]
  },
  {
   "cell_type": "code",
   "execution_count": null,
   "id": "5a0eb773",
   "metadata": {},
   "outputs": [],
   "source": [
    "mca_coordinates = pd.read_csv(mca_dims_path, index_col=0)\n",
    "mca_coordinates = mca_coordinates[mca_coordinates.index.isin(phenotypes_data.index)]\n",
    "phenotypes_data = phenotypes_data[phenotypes_data.index.isin(mca_coordinates.index)]\n",
    "\n",
    "\n",
    "# Add cluster labels from SNF\n",
    "\n",
    "mca_coordinates[\"fused_label\"] = phenotypes_data['fused_label']\n",
    "mca_coordinates[\"fused_label_2nd\"] = phenotypes_data['fused_label_2nd']\n",
    "\n",
    "for i in mca_coordinates.index:\n",
    "    mca_coordinates.at[i, 'fused_label'] =  str(mca_coordinates.at[i, 'fused_label'])\n",
    "    mca_coordinates.at[i, 'fused_label_2nd'] =  str(mca_coordinates.at[i, 'fused_label_2nd'])\n",
    "\n",
    "mca_coordinates.columns = mca_coordinates.columns.str.replace(' ', '_')"
   ]
  },
  {
   "cell_type": "code",
   "execution_count": null,
   "id": "7483eca6",
   "metadata": {},
   "outputs": [],
   "source": [
    "mca_coordinates"
   ]
  },
  {
   "cell_type": "code",
   "execution_count": null,
   "id": "baf92a0c",
   "metadata": {},
   "outputs": [],
   "source": [
    "# Shapiro tests show that MCA dimensions are not normalliy distributed\n",
    "\n",
    "for i in mca_coordinates.columns[0:-2]:\n",
    "    print(i + '\\n')\n",
    "    print(stats.shapiro(mca_coordinates[i]))\n",
    "    print('_____________________________________________________\\n\\n')"
   ]
  },
  {
   "cell_type": "code",
   "execution_count": null,
   "id": "fd0c5e4b",
   "metadata": {},
   "outputs": [],
   "source": [
    "group1 = mca_coordinates[mca_coordinates['fused_label'] == 'SNF_0']\n",
    "group2 = mca_coordinates[mca_coordinates['fused_label'] == 'SNF_1']"
   ]
  },
  {
   "cell_type": "code",
   "execution_count": null,
   "id": "8d3bec51",
   "metadata": {},
   "outputs": [],
   "source": [
    "for i in mca_coordinates.columns[0:-2]:\n",
    "    print(i + '\\n')\n",
    "    print(stats.mannwhitneyu(group1[i], group2[[i]]))\n",
    "    print('_____________________________________________________\\n\\n')"
   ]
  },
  {
   "cell_type": "code",
   "execution_count": null,
   "id": "47e734d9",
   "metadata": {},
   "outputs": [],
   "source": [
    "group_a = mca_coordinates[mca_coordinates['fused_label_2nd'] == 'SNF_0']\n",
    "group_b = mca_coordinates[mca_coordinates['fused_label_2nd'] == 'SNF_1']\n",
    "group_c = mca_coordinates[mca_coordinates['fused_label_2nd'] == 'SNF_2']\n",
    "group_d = mca_coordinates[mca_coordinates['fused_label_2nd'] == 'SNF_3']"
   ]
  },
  {
   "cell_type": "code",
   "execution_count": null,
   "id": "c4da2551",
   "metadata": {},
   "outputs": [],
   "source": [
    "def anova_table(df, numerical, categorical):\n",
    "    formula = numerical + ' ~ C(' + categorical + ')'\n",
    "    model = ols(formula, data = df).fit()\n",
    "    anova_table = sm.stats.kruskal(model, typ=2)\n",
    "    print(anova_table)\n",
    "    return(anova_table)"
   ]
  },
  {
   "cell_type": "code",
   "execution_count": null,
   "id": "5b278609",
   "metadata": {},
   "outputs": [],
   "source": [
    "for i in mca_coordinates.columns[0:-2]:\n",
    "    print(i + '\\n')\n",
    "    print(stats.kruskal(group_a[i], group_b[i], group_c[i], group_d[i]))\n",
    "    print('_____________________________________________________\\n\\n')"
   ]
  }
 ],
 "metadata": {
  "kernelspec": {
   "display_name": "Python 3 (ipykernel)",
   "language": "python",
   "name": "python3"
  },
  "language_info": {
   "codemirror_mode": {
    "name": "ipython",
    "version": 3
   },
   "file_extension": ".py",
   "mimetype": "text/x-python",
   "name": "python",
   "nbconvert_exporter": "python",
   "pygments_lexer": "ipython3",
   "version": "3.9.13"
  }
 },
 "nbformat": 4,
 "nbformat_minor": 5
}
