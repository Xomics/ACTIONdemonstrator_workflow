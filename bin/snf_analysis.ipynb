{
 "cells": [
  {
   "cell_type": "markdown",
   "id": "72d189bb",
   "metadata": {},
   "source": [
    "# Similarity Network Fusion downstream analysis"
   ]
  },
  {
   "cell_type": "markdown",
   "id": "2fee9c54",
   "metadata": {},
   "source": [
    "Authors: Casper de Visser (casper.devisser@radboudumc.nl)"
   ]
  },
  {
   "cell_type": "markdown",
   "id": "4c372a6c",
   "metadata": {},
   "source": [
    "## Introduction"
   ]
  },
  {
   "cell_type": "markdown",
   "id": "0c247905",
   "metadata": {},
   "source": [
    "This notebook contains the downstream analysis of the fused sample similarity matrix that was constructed with SNF  (Wang 2014). Spectral clustering is performed on these sample similarities and these clusters are compared with the behavioral data and phenotypic covariates."
   ]
  },
  {
   "cell_type": "code",
   "execution_count": null,
   "id": "4f90e794",
   "metadata": {},
   "outputs": [],
   "source": [
    "import sys\n",
    "import numpy as np\n",
    "import pandas as pd\n",
    "import matplotlib.pylab as plt\n",
    "from sklearn.cluster import spectral_clustering\n",
    "from sklearn.metrics import v_measure_score\n",
    "import snf\n",
    "from snf import metrics\n",
    "import seaborn as sns\n",
    "import scipy.stats as stats\n",
    "import statsmodels.api as sm\n",
    "import statsmodels"
   ]
  },
  {
   "cell_type": "markdown",
   "id": "2d89fd27",
   "metadata": {},
   "source": [
    "## Input file paths \n",
    "\n",
    "snf_matrix_path <br />\n",
    "phenotypes_covariates_path <br />\n",
    "metabolomics_path <br />\n",
    "mca_dims_path <br />\n",
    "output_dir_plots"
   ]
  },
  {
   "cell_type": "markdown",
   "id": "6d3fae5b",
   "metadata": {},
   "source": [
    "## Load numpy array of fused network"
   ]
  },
  {
   "cell_type": "code",
   "execution_count": null,
   "id": "1a9956c8",
   "metadata": {
    "scrolled": true
   },
   "outputs": [],
   "source": [
    "# Load Pandas DataFrame of fused network\n",
    "fused_df = pd.read_csv(snf_matrix_path, index_col=0)\n",
    "\n",
    "# Convert to numpy array\n",
    "fused_network = fused_df.to_numpy()"
   ]
  },
  {
   "cell_type": "markdown",
   "id": "1fe06b23",
   "metadata": {},
   "source": [
    "## Perform spectral clustering on fused network"
   ]
  },
  {
   "cell_type": "code",
   "execution_count": null,
   "id": "14256664",
   "metadata": {},
   "outputs": [],
   "source": [
    "# Spectral clustering\n",
    "\n",
    "# determine optimal number of clusters (estimated via an eigengap approach)\n",
    "best, second = snf.get_n_clusters(fused_network)\n",
    "\n",
    "# Perform spectral clustering on the fused network\n",
    "labels = spectral_clustering(fused_network, n_clusters=best)\n",
    "labels_second = spectral_clustering(fused_network, n_clusters=second)"
   ]
  },
  {
   "cell_type": "code",
   "execution_count": null,
   "id": "48f14407",
   "metadata": {},
   "outputs": [],
   "source": [
    "# Functions\n",
    "\n",
    "\n",
    "def sort_fused_network(fused_network, labels_array):\n",
    "    # Make Pandas Dataframes\n",
    "    df = pd.DataFrame(fused_network)\n",
    "    df_labels = pd.DataFrame(labels_array)\n",
    "    df_labels.columns = [\"Label\"]\n",
    "    # sort label df\n",
    "    df_labels = df_labels.sort_values(by=['Label'])\n",
    "    # sort fused network df with sorted labels\n",
    "    df = df.reindex(df_labels.index)\n",
    "    df = df[df_labels.index]\n",
    "    array = df.to_numpy()\n",
    "    np.fill_diagonal(array, 0)\n",
    "    return(array)\n",
    "\n",
    "def make_heatmap(array, n_clusters):\n",
    "    # Create heatmap\n",
    "    heatmap = plt.imshow(array, cmap='hot', interpolation='nearest')\n",
    "\n",
    "    # Set axis names, title etc.\n",
    "    plt.xlabel('samples')\n",
    "    plt.ylabel('samples') \n",
    "    cbar = plt.colorbar(heatmap)\n",
    "    cbar.ax.set_ylabel('sample correlations', loc=\"top\")\n",
    "    plt.suptitle('Fused network: sample correlations\\nNumber of clusters: {:.2f}'.format(round(n_clusters)))\n",
    "    plt.show()\n",
    "\n",
    "    return(plt)\n",
    "    \n",
    "# Sort Fused networks according to labels found by spectral clustering\n",
    "sorted_fused_network_best = sort_fused_network(fused_network, labels)\n",
    "sorted_fused_network_second = sort_fused_network(fused_network, labels_second)"
   ]
  },
  {
   "cell_type": "code",
   "execution_count": null,
   "id": "251d7268",
   "metadata": {
    "scrolled": true
   },
   "outputs": [],
   "source": [
    "make_heatmap(sorted_fused_network_best,  best)"
   ]
  },
  {
   "cell_type": "code",
   "execution_count": null,
   "id": "4c591062",
   "metadata": {
    "scrolled": true
   },
   "outputs": [],
   "source": [
    "make_heatmap(sorted_fused_network_second, second)"
   ]
  },
  {
   "cell_type": "code",
   "execution_count": null,
   "id": "ee3aad47",
   "metadata": {},
   "outputs": [],
   "source": [
    "# Evaluation metrics\n",
    "\n",
    "# Determine V-measure score (requiring true lables)\n",
    "#v_score_1 = v_measure_score(labels, true_labels)\n",
    "#v_score_2 = v_measure_score(labels_second, true_labels)\n",
    "\n",
    "# Silhouette score\n",
    "np.fill_diagonal(fused_network, 0)\n",
    "sil = metrics.silhouette_score(fused_network, labels)\n",
    "sil2 = metrics.silhouette_score(fused_network, labels_second)\n",
    "\n",
    "# Affinity Z-score\n",
    "zscore =  metrics.affinity_zscore(fused_network, labels)\n",
    "zscore2 = metrics.affinity_zscore(fused_network, labels_second)"
   ]
  },
  {
   "cell_type": "markdown",
   "id": "ad9c038c",
   "metadata": {},
   "source": [
    "## Compare SNF clusters to phenotype data"
   ]
  },
  {
   "cell_type": "code",
   "execution_count": null,
<<<<<<< HEAD
=======
   "id": "91ca1f05",
   "metadata": {},
   "outputs": [],
   "source": [
    "# Find common IDs with -omics dataframes used for SNF\n",
    "\n",
    "\n",
    "metabolomics = pd.read_csv(metabolomics_path, index_col=0) #metabolomics_values_mapped\n",
    "metabolomics = metabolomics.dropna()"
   ]
  },
  {
   "cell_type": "code",
   "execution_count": null,
>>>>>>> 7c629b66e3fd615b3364dda6b8fb11e33a0860cf
   "id": "a33605f1",
   "metadata": {},
   "outputs": [],
   "source": [
    "# Phenotypes process out\n",
    "\n",
    "phenotypes_data = pd.read_csv(phenotypes_covariates_path , index_col=0) #phenotype_covariates_data.csv\n",
    "\n",
    "phenotypes_data = phenotypes_data[phenotypes_data.index.isin(fused_df.index)]\n",
    "phenotypes_data.shape\n",
    "\n",
    "# Add cluster labels from SNF\n",
    "\n",
    "SNF_label_best_colname =  \"SNF_label_\" + str(best)\n",
    "SNF_label_second_colname =  \"SNF_label_\" + str(second)\n",
    "\n",
    "phenotypes_data[SNF_label_best_colname] = labels\n",
    "phenotypes_data[SNF_label_second_colname] = labels_second\n",
    "\n",
    "for i in phenotypes_data.index:\n",
    "    phenotypes_data.at[i, SNF_label_best_colname] =  \"SNF_\"+ str(phenotypes_data.at[i, SNF_label_best_colname])\n",
    "    phenotypes_data.at[i, SNF_label_second_colname] =  \"SNF_\"+ str(phenotypes_data.at[i, SNF_label_second_colname])"
   ]
  },
  {
   "cell_type": "markdown",
   "id": "5bbff8b3",
   "metadata": {},
   "source": [
    "## Generate mosaic plots, comparing SNF clusters with phenotypic covariates "
   ]
  },
  {
   "cell_type": "code",
   "execution_count": null,
   "id": "01460696",
   "metadata": {},
   "outputs": [],
   "source": [
    "# Function to generate the mosaic plot\n",
    "\n",
    "from statsmodels.graphics.mosaicplot import mosaic\n",
    "\n",
    "colors = ['#e69F00', '#56b4e9', '#009e73', '#f0e442', '#0072b2', '#d55e00', '#cc79a7', '#000000']\n",
    "\n",
    "def make_mosaic(df, col1, col2, out_dir):\n",
    "    \n",
    "    #Sort df on pheno value that is plotted against the clusters\n",
    "    df = df.sort_values(by=[col1])\n",
    "    \n",
    "    \n",
    "    #Adjust plot size to value counts\n",
    "    number_of_pheno_values = len(df[col1].value_counts())\n",
    "    number_of_clusters = len(df[col2].value_counts())\n",
    "    \n",
    "    \n",
    "    if number_of_pheno_values < 2:\n",
    "        print('No differences are observed in this phenotypic feature among the subjects')\n",
    "    \n",
    "    else:\n",
    "    \n",
    "        if number_of_pheno_values < 4:\n",
    "            number_of_pheno_values = 4\n",
    "    \n",
    "        # Figure size\n",
    "        fig, ax = plt.subplots(figsize=(number_of_pheno_values*2,number_of_clusters*1.5))      \n",
    "        \n",
    "        \n",
    "        # Figure color palette\n",
    "        props= {}\n",
    "        e = 0\n",
    "        a =  0.6 - number_of_clusters/10 \n",
    "        for i in df[col1].unique():\n",
    "            for j in df[col2].unique():\n",
    "                props[(str(i), str(j))] = {'color': colors[e], 'alpha' : a}\n",
    "                a += (0.6 - number_of_clusters/10)\n",
    "            e += 1\n",
    "            a = (0.6 - number_of_clusters/10)\n",
    "        \n",
    "        # Figure lables (percentages)\n",
    "        labels_dict={}\n",
    "        for i in df[col1].unique():\n",
    "            for j in df[col2].unique():\n",
    "                samples = len(df[(df[col1] == i) & (df[col2] == j)])\n",
    "                percentage = round(samples/len(df.index) * 100, 2)\n",
    "                labels_dict[(str(i), str(j))] = str(i) + '; ' + str(j) + '\\n' + str(percentage) + '%'\n",
    "\n",
    "        # Generate plot\n",
    "        mosaic(df, \n",
    "               [col1, col2], \n",
    "               ax=ax, \n",
    "               axes_label=False,\n",
    "               properties = props,\n",
    "               labelizer = lambda k: labels_dict[k])\n",
    "        plt.xlabel(col1, fontsize=20)\n",
    "        plt.ylabel(col2, fontsize=20)\n",
    "        plt.savefig(out_dir)\n",
    "        plt.show()\n",
    "        plt.close()\n",
    "\n",
    "        return(plt)"
   ]
  },
  {
   "cell_type": "code",
   "execution_count": null,
   "id": "c4ca3f3b",
   "metadata": {
    "scrolled": true
   },
   "outputs": [],
   "source": [
    "make_mosaic(phenotypes_data, 'Age', SNF_label_best_colname, str(output_dir_plots) + 'Age_l1.png')"
   ]
  },
  {
   "cell_type": "code",
   "execution_count": null,
   "id": "f7027e6a",
   "metadata": {
    "scrolled": true
   },
   "outputs": [],
   "source": [
    "make_mosaic(phenotypes_data, 'Age', SNF_label_second_colname, str(output_dir_plots) + 'Age_l2.png')"
   ]
  },
  {
   "cell_type": "code",
   "execution_count": null,
   "id": "0f846b4a",
   "metadata": {
    "scrolled": true
   },
   "outputs": [],
   "source": [
    "make_mosaic(phenotypes_data, 'Sex', SNF_label_best_colname, str(output_dir_plots) + 'sex_l1.png') "
   ]
  },
  {
   "cell_type": "code",
   "execution_count": null,
   "id": "de1b5f9d",
   "metadata": {},
   "outputs": [],
   "source": [
    "make_mosaic(phenotypes_data, 'Sex', SNF_label_second_colname, str(output_dir_plots) + 'sex_l2.png')"
   ]
  },
  {
   "cell_type": "code",
   "execution_count": null,
   "id": "dd1a0474",
   "metadata": {
    "scrolled": true
   },
   "outputs": [],
   "source": [
    "make_mosaic(phenotypes_data, 'Sick', SNF_label_best_colname, str(output_dir_plots) + 'Sick_l1.png')"
   ]
  },
  {
   "cell_type": "code",
   "execution_count": null,
   "id": "bf55ae07",
   "metadata": {
    "scrolled": true
   },
   "outputs": [],
   "source": [
    "make_mosaic(phenotypes_data, 'Sick', SNF_label_second_colname, str(output_dir_plots) + 'Sick_l2.png')"
   ]
  },
  {
   "cell_type": "code",
   "execution_count": null,
   "id": "17a681ba",
   "metadata": {},
   "outputs": [],
   "source": [
    "make_mosaic(phenotypes_data, 'Menstruation', SNF_label_best_colname, str(output_dir_plots) + 'Menstruation_l.png')"
   ]
  },
  {
   "cell_type": "code",
   "execution_count": null,
   "id": "09b674dc",
   "metadata": {
    "scrolled": true
   },
   "outputs": [],
   "source": [
    "make_mosaic(phenotypes_data, 'Menstruation', SNF_label_second_colname, str(output_dir_plots) + 'Menstruation_l2.png')"
   ]
  },
  {
   "cell_type": "code",
   "execution_count": null,
   "id": "40bdc281",
   "metadata": {},
   "outputs": [],
   "source": [
    "make_mosaic(phenotypes_data, 'Vitamines', SNF_label_best_colname, str(output_dir_plots) + 'Vitamines_l.png')"
   ]
  },
  {
   "cell_type": "code",
   "execution_count": null,
   "id": "573bcbd8",
   "metadata": {},
   "outputs": [],
   "source": [
    "make_mosaic(phenotypes_data, 'Vitamines', SNF_label_second_colname, str(output_dir_plots) + 'Vitamines_l2.png')"
   ]
  },
  {
   "cell_type": "markdown",
   "id": "8bbdcbbd",
   "metadata": {},
   "source": [
    "# Compare clusters on MCA dimensions"
   ]
  },
  {
   "cell_type": "code",
   "execution_count": null,
   "id": "5a0eb773",
   "metadata": {},
   "outputs": [],
   "source": [
    "# Load in MCA dimensions\n",
    "\n",
    "mca_coordinates = pd.read_csv(mca_dims_path, index_col=0)\n",
    "mca_coordinates = mca_coordinates[mca_coordinates.index.isin(phenotypes_data.index)]\n",
    "phenotypes_data = phenotypes_data[phenotypes_data.index.isin(mca_coordinates.index)]\n",
    "\n",
    "\n",
    "# Add cluster labels from SNF\n",
    "\n",
    "mca_coordinates[SNF_label_best_colname] = phenotypes_data[SNF_label_best_colname]\n",
    "mca_coordinates[SNF_label_second_colname] = phenotypes_data[SNF_label_second_colname]\n",
    "\n",
    "\n",
    "for i in mca_coordinates.index:\n",
    "    mca_coordinates.at[i, SNF_label_best_colname] =  str(mca_coordinates.at[i, SNF_label_best_colname])\n",
    "    mca_coordinates.at[i, SNF_label_second_colname] =  str(mca_coordinates.at[i, SNF_label_second_colname])\n",
    "\n",
    "mca_coordinates.columns = mca_coordinates.columns.str.replace(' ', '_')"
   ]
  },
  {
   "cell_type": "markdown",
   "id": "91e04b3e",
   "metadata": {},
   "source": [
    "## Functions used for statistics "
   ]
  },
  {
   "cell_type": "code",
   "execution_count": null,
   "id": "2f54397b",
   "metadata": {},
   "outputs": [],
   "source": [
    "def make_significant_bold(x):\n",
    "    bold = 'bold' if x < 0.05 else ''\n",
    "    return 'font-weight: %s' % bold\n",
    "\n",
    "\n",
    "def make_pvalue_table(p_value_list):\n",
    "    a = np.array(p_value_list)\n",
    "    df = pd.DataFrame(a[:,1:], index = a[:,0], columns = ['test statistic', 'p-value'])\n",
    "    df['test statistic'] = pd.to_numeric(df['test statistic'])\n",
    "    df['p-value'] = pd.to_numeric(df['p-value'])\n",
    "    p_values = np.asarray(df['p-value'].values.tolist())\n",
    "    corrected_p_values = statsmodels.stats.multitest.fdrcorrection(p_values)\n",
    "    df['FDR corrected p-value'] = corrected_p_values[1].tolist()\n",
    "    df.style.applymap(make_significant_bold)\n",
    "    return(df)\n",
    "\n",
    "\n",
    "def man_whitney(group_list, df):\n",
    "    \n",
    "    # Calculate Mann-Whitney U tests per MCA dimension\n",
    "    p_value_list = []\n",
    "    \n",
    "    for i in df.columns[0:-2]:\n",
    "        row = []\n",
    "        statistics = stats.mannwhitneyu(group_list[0][i], group_list[1][i])\n",
    "        row.append(i)\n",
    "        row.append(list(statistics)[0])\n",
    "        row.append(list(statistics)[1])\n",
    "        p_value_list.append(row)\n",
    "        \n",
    "    # Make nicer looking table for p-values\n",
    "    df = make_pvalue_table(p_value_list)\n",
    "    return(df)\n",
    "\n",
    "\n",
    "def kruskal_wallis(groups_list, df):\n",
    "\n",
    "    # Make list of the different snf groups, per mca dimension        \n",
    "    groups_vs_mca_dims = []\n",
    "\n",
    "    for i in df.columns[0:-2]:\n",
    "        \n",
    "        groups_vs_mca_dim = []\n",
    "        for j in groups_list:\n",
    "            groups_vs_mca_dim.append(j[i])\n",
    "        groups_vs_mca_dims.append(groups_vs_mca_dim)\n",
    "    \n",
    "    # Calculate Kruskal-Wallis statistic over the different groups\n",
    "    p_value_list = []\n",
    "    dim_num = 0\n",
    "    \n",
    "    for i in groups_vs_mca_dims:\n",
    "        dim_num += 1\n",
    "        row = []\n",
    "        statistics = stats.kruskal(*i)\n",
    "        row.append(\"Dim_\" + str(dim_num))\n",
    "        row.append(list(statistics)[0])\n",
    "        row.append(list(statistics)[1])\n",
    "        p_value_list.append(row)\n",
    "        \n",
    "    # Make nice looking table\n",
    "    df = make_pvalue_table(p_value_list)\n",
    "    return(df)\n",
    "\n",
    "\n",
    "def perform_statistical_testing(n_clusters, df):\n",
    "    \n",
    "    # Make list of groups of different SNF clusters (best or second)\n",
    "    snf_groups = []\n",
    "    \n",
    "    for i in range(n_clusters):\n",
    "        snf_label = 'SNF_' + str(i)\n",
    "        snf_groups.append(df[df[\"SNF_label_\" + str(n_clusters)] == snf_label])\n",
    "    \n",
    "    # Perform statistical test based on number of clusters\n",
    "    if len(snf_groups) > 2:\n",
    "        p_values = kruskal_wallis(snf_groups, df)\n",
    "\n",
    "    else:\n",
    "        p_values = man_whitney(snf_groups, df)\n",
    "                            \n",
    "    return(p_values)\n",
    "\n",
    "\n",
    "def perform_statistical_testing_aggression(n_clusters, df):\n",
    "\n",
    "    snf_groups = []\n",
    "\n",
    "    for i in range(n_clusters):\n",
    "        snf_label = 'SNF_' + str(i)\n",
    "        group = df[df[\"SNF_label_\" + str(n_clusters)] == snf_label]\n",
    "        snf_groups.append(group[\"Aggression_Tscore\"])\n",
    "\n",
    "\n",
    "    if len(snf_groups) > 2:\n",
    "        for i in snf_groups:\n",
    "            p_values = stats.kruskal(*i)\n",
    "    \n",
    "    else:\n",
    "        p_values = stats.mannwhitneyu(snf_groups[0], snf_groups[1])\n",
    "        \n",
    "    return(p_values)"
   ]
  },
  {
   "cell_type": "markdown",
   "id": "d392f3bf",
   "metadata": {},
   "source": [
    "## Shapiro test for MCA dimensions"
   ]
  },
  {
   "cell_type": "code",
   "execution_count": null,
   "id": "425122df",
   "metadata": {},
   "outputs": [],
   "source": [
    "# Shapiro tests show that MCA dimensions are not normalliy distributed\n",
    "p_value_list = []\n",
    "\n",
    "for i in mca_coordinates.columns[0:-2]:\n",
    "    row = []\n",
    "    statistics = stats.shapiro(mca_coordinates[i])\n",
    "    row.append(i)\n",
    "    row.append(list(statistics)[0])\n",
    "    row.append(list(statistics)[1])\n",
    "    p_value_list.append(row)\n",
    "\n",
    "df = make_pvalue_table(p_value_list)\n",
    "df.style.applymap(make_significant_bold)\n",
    "df"
   ]
  },
  {
   "cell_type": "code",
   "execution_count": null,
   "id": "457e1036",
   "metadata": {},
   "outputs": [],
   "source": [
    "from IPython.display import display, Markdown\n",
    "display(Markdown(\"## Comparing \" + str(best) + \" clusters on MCA dimensions\"))"
   ]
  },
  {
   "cell_type": "code",
   "execution_count": null,
   "id": "314a9c47",
   "metadata": {},
   "outputs": [],
   "source": [
    "results = perform_statistical_testing(best, mca_coordinates)\n",
    "results.style.applymap(make_significant_bold)\n",
    "if best > 2: \n",
    "    print('Kruskal-Wallis test\\n\\n') \n",
    "else: \n",
    "    print('Mann-Whitney U test\\n\\n')\n",
    "results"
   ]
  },
  {
   "cell_type": "code",
   "execution_count": null,
   "id": "0b598e18",
   "metadata": {},
   "outputs": [],
   "source": [
    "display(Markdown(\"## Comparing \" + str(second) + \" clusters on MCA dimensions\"))"
   ]
  },
  {
   "cell_type": "code",
   "execution_count": null,
   "id": "ba51ee26",
   "metadata": {},
   "outputs": [],
   "source": [
    "results = perform_statistical_testing(second, mca_coordinates)\n",
    "results.style.applymap(make_significant_bold)\n",
    "if second > 2: \n",
    "    print('Kruskal-Wallis test\\n\\n') \n",
    "else: \n",
    "    print('Mann-Whitney U test\\n\\n')\n",
    "results"
   ]
  },
  {
   "cell_type": "markdown",
   "id": "fc903462",
   "metadata": {},
   "source": [
    "## Aggression T-scores"
   ]
  },
  {
   "cell_type": "code",
   "execution_count": 18,
   "id": "faea37d3",
   "metadata": {},
   "outputs": [],
   "source": [
    "# Remove samples with NA values for Aggression score\n",
    "\n",
    "phenotypes_data_nonan = phenotypes_data[phenotypes_data['Aggression_Tscore'].notna()]\n",
    "\n",
    "# Perform shapiro test for normality\n",
    "shapiro = stats.shapiro(phenotypes_data_nonan[\"Aggression_Tscore\"])\n",
    "\n",
    "if float(list(shapiro)[1]) < 0.05:\n",
    "    print('Shapiro test shows that Aggression T-scores are not normally distributed')\n",
    "    print('p-value', list(shapiro)[1])\n",
    "    \n",
    "else:\n",
    "    print('Shapiro test shows that Aggression T-scores are normally distributed')\n",
    "    print('p-value', list(shapiro)[1])"
   ]
  },
  {
   "cell_type": "code",
   "execution_count": null,
   "id": "a3d81e48",
   "metadata": {},
   "outputs": [],
   "source": [
    "#Compare SNF clustering to Aggression T-scores\n",
    "\n",
    "results = perform_statistical_testing_aggression(best, phenotypes_data_nonan)\n",
    "results_second = perform_statistical_testing_aggression(second, phenotypes_data_nonan)\n",
    "\n",
    "print('Comparing best SNF clustering on Aggresion T-score\\n')\n",
    "if best > 2: \n",
    "    print('Kruskal-Wallis test\\n') \n",
    "else: \n",
    "    print('Mann-Whitney U test\\n')\n",
    "print('p-value:' , str(list(results)[1]))\n",
    "print('\\n\\nComparing second best SNF clustering on Aggresion T-score\\n')\n",
    "if second > 2: \n",
    "    print('Kruskal-Wallis test\\n') \n",
    "else: \n",
    "    print('Mann-Whitney U test\\n')\n",
    "print('p-value:' + str(list(results_second)[1]))"
   ]
  }
 ],
 "metadata": {
  "kernelspec": {
   "display_name": "Python 3 (ipykernel)",
   "language": "python",
   "name": "python3"
  },
  "language_info": {
   "codemirror_mode": {
    "name": "ipython",
    "version": 3
   },
   "file_extension": ".py",
   "mimetype": "text/x-python",
   "name": "python",
   "nbconvert_exporter": "python",
   "pygments_lexer": "ipython3",
   "version": "3.9.13"
  }
 },
 "nbformat": 4,
 "nbformat_minor": 5
}
